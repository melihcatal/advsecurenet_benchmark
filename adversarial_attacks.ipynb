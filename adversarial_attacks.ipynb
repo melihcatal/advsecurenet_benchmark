{
 "cells": [
  {
   "cell_type": "markdown",
   "metadata": {},
   "source": [
    "# FGSM"
   ]
  },
  {
   "cell_type": "code",
   "execution_count": null,
   "metadata": {},
   "outputs": [],
   "source": [
    "from advsecurenet.attacks.gradient_based import FGSM\n",
    "from advsecurenet.shared.types.configs.attack_configs import FgsmAttackConfig\n",
    "from advsecurenet.shared.types.configs.attack_configs.attacker_config import AttackerConfig\n",
    "from advsecurenet.attacks.attacker import Attacker\n",
    "from advsecurenet.shared.types.configs.device_config import DeviceConfig\n",
    "\n",
    "\n",
    "import numpy as np\n",
    "import time\n",
    "\n",
    "\n",
    "import torch\n",
    "import torchvision\n",
    "import torchvision.transforms as transforms\n",
    "from torchvision.models import resnet50\n",
    "\n",
    "\n",
    "from art.attacks.evasion import FastGradientMethod\n",
    "from art.estimators.classification import PyTorchClassifier\n",
    "\n",
    "from cleverhans.torch.attacks.fast_gradient_method import fast_gradient_method\n",
    "\n",
    "import foolbox as fb\n",
    "\n",
    "from advertorch.attacks import FGSM as advertorch_FGSM\n"
   ]
  },
  {
   "cell_type": "code",
   "execution_count": null,
   "metadata": {},
   "outputs": [],
   "source": [
    "# Data transforms\n",
    "transform = transforms.Compose([transforms.ToTensor(), transforms.Normalize((0.5, 0.5, 0.5), (0.5, 0.5, 0.5))])\n",
    "\n",
    "# Load CIFAR-10 dataset\n",
    "trainset = torchvision.datasets.CIFAR10(root='./data', train=True, download=True, transform=transform)\n",
    "trainloader = torch.utils.data.DataLoader(trainset, batch_size=128, shuffle=True, num_workers=2)\n",
    "\n",
    "# Load ResNet-50 model\n",
    "model = resnet50(pretrained=True).eval()\n"
   ]
  },
  {
   "cell_type": "markdown",
   "metadata": {},
   "source": [
    "### IBM ART"
   ]
  },
  {
   "cell_type": "code",
   "execution_count": null,
   "metadata": {},
   "outputs": [],
   "source": [
    "# ART FGSM\n",
    "classifier = PyTorchClassifier(model=model, clip_values=(0, 1), loss=torch.nn.CrossEntropyLoss(), optimizer=None, input_shape=(3, 32, 32), nb_classes=10)\n",
    "attack = FastGradientMethod(estimator=classifier, eps=0.3)\n",
    "start_time = time.time()\n",
    "for data in trainloader:\n",
    "    inputs, labels = data\n",
    "    adv_inputs = attack.generate(x=inputs.numpy())\n",
    "end_time = time.time()\n",
    "print(\"ART FGSM Attack Time:\", end_time - start_time)\n",
    "\n"
   ]
  },
  {
   "cell_type": "markdown",
   "metadata": {},
   "source": [
    "### CleverHans"
   ]
  },
  {
   "cell_type": "code",
   "execution_count": null,
   "metadata": {},
   "outputs": [],
   "source": [
    "# CleverHans FGSM\n",
    "start_time = time.time()\n",
    "for data in trainloader:\n",
    "    inputs, labels = data\n",
    "    inputs, labels = inputs.cuda(), labels.cuda()\n",
    "    adv_inputs = fast_gradient_method(model, inputs, eps=0.3, norm=np.inf)\n",
    "end_time = time.time()\n",
    "print(\"CleverHans FGSM Attack Time:\", end_time - start_time)"
   ]
  },
  {
   "cell_type": "markdown",
   "metadata": {},
   "source": [
    "### AdvSecureNet"
   ]
  },
  {
   "cell_type": "code",
   "execution_count": null,
   "metadata": {},
   "outputs": [],
   "source": [
    "device = DeviceConfig(processor=\"cuda\")\n",
    "\n",
    "# Define the fgsm config\n",
    "fgsm_config = FgsmAttackConfig(\n",
    "    targeted=False,\n",
    "    epsilon=0.1,\n",
    "    device=device,\n",
    ")\n",
    "\n",
    "# Now we can define the attack\n",
    "attack = FGSM(config=fgsm_config)  \n",
    "\n",
    "# define the attacker \n",
    "attacker_config = AttackerConfig(\n",
    "    model=model,\n",
    "    attack= attack,\n",
    "    dataloader=trainloader,\n",
    "    device=device,\n",
    "    return_adversarial_images=True,\n",
    ")\n",
    "attacker = Attacker(config=attacker_config)\n",
    "\n",
    "start_time = time.time()\n",
    "adv_imgs = attacker.execute()\n",
    "end_time = time.time()\n",
    "print(\"AdvSecureNet FGSM Attack Time:\", end_time - start_time)"
   ]
  },
  {
   "cell_type": "markdown",
   "metadata": {},
   "source": [
    "### ARES"
   ]
  },
  {
   "cell_type": "code",
   "execution_count": null,
   "metadata": {},
   "outputs": [],
   "source": [
    "start_time = time.time()\n",
    "!python run_attack.py --gpu 0 --batchsize 20 --num_workers 16  --model_name 'resnet50' --attack_name 'fgsm' --dataset 'cifar10' --data_dir ./data \n",
    "end_time = time.time()\n",
    "print(\"Ares FGSM Attack Time:\", end_time - start_time)"
   ]
  },
  {
   "cell_type": "markdown",
   "metadata": {},
   "source": [
    "### FoolBox"
   ]
  },
  {
   "cell_type": "code",
   "execution_count": null,
   "metadata": {},
   "outputs": [],
   "source": [
    "\n",
    "attack = fb.attacks.LinfFastGradientAttack()\n",
    "preprocessing = dict()\n",
    "bounds = (-1, 1)\n",
    "fmodel = fb.PyTorchModel(model, bounds=bounds, preprocessing=preprocessing)\n",
    "\n",
    "start_time = time.time()\n",
    "for data in trainloader:\n",
    "    inputs, labels = data\n",
    "    inputs, labels = inputs.cuda(), labels.cuda()\n",
    "    adv_inputs = attack(fmodel, inputs, labels, epsilons=[0.3])\n",
    "    \n",
    "end_time = time.time()\n",
    "\n",
    "print(\"Foolbox FGSM Attack Time:\", end_time - start_time)\n",
    "    "
   ]
  },
  {
   "cell_type": "markdown",
   "metadata": {},
   "source": [
    "### AdverTorch"
   ]
  },
  {
   "cell_type": "code",
   "execution_count": null,
   "metadata": {},
   "outputs": [],
   "source": [
    "adversary = advertorch_FGSM(model, eps=0.3)\n",
    "\n",
    "start_time = time.time()\n",
    "for data in trainloader:\n",
    "    inputs, labels = data\n",
    "    inputs, labels = inputs.cuda(), labels.cuda()\n",
    "    adv_inputs = adversary.perturb(inputs, labels)\n",
    "end_time = time.time()\n",
    "\n",
    "print(\"Advertorch FGSM Attack Time:\", end_time - start_time)"
   ]
  },
  {
   "cell_type": "markdown",
   "metadata": {},
   "source": [
    "# PGD-20"
   ]
  },
  {
   "cell_type": "code",
   "execution_count": null,
   "metadata": {},
   "outputs": [],
   "source": [
    "\n",
    "from advsecurenet.attacks.gradient_based import FGSM, PGD\n",
    "from advsecurenet.shared.types.configs.attack_configs import FgsmAttackConfig, PgdAttackConfig\n",
    "from advsecurenet.shared.types.configs.attack_configs.attacker_config import AttackerConfig\n",
    "from advsecurenet.attacks.attacker import Attacker\n",
    "from advsecurenet.shared.types.configs.device_config import DeviceConfig\n",
    "\n",
    "\n",
    "import numpy as np\n",
    "import time\n",
    "\n",
    "\n",
    "import torch\n",
    "import torchvision\n",
    "import torchvision.transforms as transforms\n",
    "from torchvision.models import resnet50\n",
    "\n",
    "\n",
    "from art.attacks.evasion import FastGradientMethod, ProjectedGradientDescent\n",
    "from art.estimators.classification import PyTorchClassifier\n",
    "\n",
    "from cleverhans.torch.attacks.fast_gradient_method import fast_gradient_method\n",
    "from cleverhans.torch.attacks.projected_gradient_descent import projected_gradient_descent\n",
    "\n",
    "import foolbox as fb\n",
    "\n",
    "from advertorch.attacks import PGDAttack as AdvertorchPGDAttack\n",
    "\n",
    "from tqdm.auto import tqdm, trange\n"
   ]
  },
  {
   "cell_type": "code",
   "execution_count": null,
   "metadata": {},
   "outputs": [],
   "source": [
    "# Data transforms\n",
    "transform = transforms.Compose([transforms.ToTensor(), transforms.Normalize((0.5, 0.5, 0.5), (0.5, 0.5, 0.5))])\n",
    "\n",
    "# Load CIFAR-10 dataset\n",
    "trainset = torchvision.datasets.CIFAR10(root='./data', train=True, download=True, transform=transform)\n",
    "trainloader = torch.utils.data.DataLoader(trainset, batch_size=128, shuffle=True, num_workers=2)\n",
    "\n",
    "# Load ResNet-50 model\n",
    "model = resnet50(pretrained=True).eval()\n"
   ]
  },
  {
   "cell_type": "markdown",
   "metadata": {},
   "source": [
    "### IBM ART"
   ]
  },
  {
   "cell_type": "code",
   "execution_count": null,
   "metadata": {},
   "outputs": [],
   "source": [
    "# ART FGSM\n",
    "classifier = PyTorchClassifier(model=model, clip_values=(0, 1), loss=torch.nn.CrossEntropyLoss(), optimizer=None, input_shape=(3, 32, 32), nb_classes=10)\n",
    "attack = ProjectedGradientDescent(classifier, eps=0.3, eps_step=0.01, max_iter=20, targeted=False)\n",
    "start_time = time.time()\n",
    "for data in tqdm(trainloader):\n",
    "    inputs, labels = data\n",
    "    adv_inputs = attack.generate(x=inputs.numpy(), y=labels.numpy())\n",
    "end_time = time.time()\n",
    "print(\"ART PGD Attack Time:\", end_time - start_time)\n",
    "\n"
   ]
  },
  {
   "cell_type": "markdown",
   "metadata": {},
   "source": [
    "### CleverHans"
   ]
  },
  {
   "cell_type": "code",
   "execution_count": null,
   "metadata": {},
   "outputs": [],
   "source": [
    "model = resnet50(pretrained=True).eval().cuda()\n",
    "# CleverHans FGSM\n",
    "start_time = time.time()\n",
    "for data in tqdm(trainloader):\n",
    "    inputs, labels = data\n",
    "    inputs, labels = inputs.cuda(), labels.cuda()\n",
    "    adv_inputs = projected_gradient_descent(model, inputs, eps=0.3, eps_iter=0.01, nb_iter=20, norm=np.inf, y=labels)\n",
    "end_time = time.time()\n",
    "print(\"CleverHans PGD Attack Time:\", end_time - start_time)"
   ]
  },
  {
   "cell_type": "markdown",
   "metadata": {},
   "source": [
    "### AdvSecureNet"
   ]
  },
  {
   "cell_type": "code",
   "execution_count": null,
   "metadata": {},
   "outputs": [],
   "source": [
    "model = resnet50(pretrained=True).eval().cuda()\n",
    "device = DeviceConfig(processor=\"cuda\")\n",
    "\n",
    "# Define the pgd config\n",
    "pgd_config = PgdAttackConfig(\n",
    "    epsilon=0.3,\n",
    "    alpha=0.01,\n",
    "    num_iter=20,\n",
    "    targeted=False,\n",
    ")\n",
    "\n",
    "# Now we can define the attack\n",
    "attack = PGD(config=pgd_config)  \n",
    "\n",
    "# define the attacker \n",
    "attacker_config = AttackerConfig(\n",
    "    model=model,\n",
    "    attack= attack,\n",
    "    dataloader=trainloader,\n",
    "    device=device,\n",
    "    return_adversarial_images=True,\n",
    ")\n",
    "attacker = Attacker(config=attacker_config)\n",
    "\n",
    "start_time = time.time()\n",
    "adv_imgs = attacker.execute()\n",
    "end_time = time.time()\n",
    "print(\"AdvSecureNet PGD Attack Time:\", end_time - start_time)"
   ]
  },
  {
   "cell_type": "markdown",
   "metadata": {},
   "source": [
    "### ARES"
   ]
  },
  {
   "cell_type": "code",
   "execution_count": null,
   "metadata": {},
   "outputs": [],
   "source": [
    "start_time = time.time()\n",
    "!python run_attack.py --gpu 0 --batchsize 128 --num_workers 2  --model_name 'resnet50' --attack_name 'pgd' --dataset 'cifar10' --data_dir ./data \n",
    "end_time = time.time()\n",
    "print(\"Ares PGD Attack Time:\", end_time - start_time)"
   ]
  },
  {
   "cell_type": "markdown",
   "metadata": {},
   "source": [
    "### FoolBox"
   ]
  },
  {
   "cell_type": "code",
   "execution_count": null,
   "metadata": {},
   "outputs": [],
   "source": [
    "\n",
    "attack = fb.attacks.L2PGD(steps=20)\n",
    "preprocessing = dict()\n",
    "bounds = (-1, 1)\n",
    "fmodel = fb.PyTorchModel(model, bounds=bounds, preprocessing=preprocessing)\n",
    "start_time = time.time()\n",
    "for data in tqdm(trainloader):\n",
    "    inputs, labels = data\n",
    "    inputs, labels = inputs.cuda(), labels.cuda()\n",
    "    adv_inputs = attack(fmodel, inputs, labels, epsilons=[0.3])\n",
    "    \n",
    "end_time = time.time()\n",
    "\n",
    "print(\"Foolbox PGD Attack Time:\", end_time - start_time)\n",
    "    "
   ]
  },
  {
   "cell_type": "markdown",
   "metadata": {},
   "source": [
    "### AdverTorch"
   ]
  },
  {
   "cell_type": "code",
   "execution_count": null,
   "metadata": {},
   "outputs": [],
   "source": [
    "adversary = AdvertorchPGDAttack(predict=model, loss_fn=torch.nn.CrossEntropyLoss(), eps=0.3, nb_iter=20, eps_iter=0.01, clip_min=-1.0, clip_max=1.0, targeted=False)\n",
    "\n",
    "start_time = time.time()\n",
    "for data in tqdm(trainloader):\n",
    "    inputs, labels = data\n",
    "    inputs, labels = inputs.cuda(), labels.cuda()\n",
    "    adv_inputs = adversary.perturb(inputs, labels)\n",
    "end_time = time.time()\n",
    "\n",
    "print(\"Advertorch PGD Attack Time:\", end_time - start_time)"
   ]
  }
 ],
 "metadata": {
  "language_info": {
   "name": "python"
  }
 },
 "nbformat": 4,
 "nbformat_minor": 2
}
