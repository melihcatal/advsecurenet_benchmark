{
 "cells": [
  {
   "cell_type": "markdown",
   "metadata": {},
   "source": [
    "# Adversarial Training"
   ]
  },
  {
   "cell_type": "markdown",
   "metadata": {},
   "source": [
    "## CIFAR-10"
   ]
  },
  {
   "cell_type": "markdown",
   "metadata": {},
   "source": [
    "### IBM-ART"
   ]
  },
  {
   "cell_type": "code",
   "execution_count": null,
   "metadata": {},
   "outputs": [],
   "source": [
    "import torch\n",
    "import torchvision\n",
    "import torchvision.transforms as transforms\n",
    "import numpy as np\n",
    "\n",
    "# Define the transformation\n",
    "transform = transforms.Compose([\n",
    "    transforms.ToTensor(),\n",
    "    transforms.Normalize((0.5, 0.5, 0.5), (0.5, 0.5, 0.5)),\n",
    "])\n",
    "\n",
    "# Load CIFAR-10 dataset\n",
    "trainset = torchvision.datasets.CIFAR10(root='./data', train=True, download=True, transform=transform)\n",
    "testset = torchvision.datasets.CIFAR10(root='./data', train=False, download=True, transform=transform)\n",
    "\n",
    "x_train = np.array([trainset[i][0].numpy() for i in range(len(trainset))])\n",
    "y_train = np.array([trainset[i][1] for i in range(len(trainset))])\n",
    "x_test = np.array([testset[i][0].numpy() for i in range(len(testset))])\n",
    "y_test = np.array([testset[i][1] for i in range(len(testset))])\n",
    "\n",
    "# Transpose the data to match the input shape expected by PyTorch (batch_size, 3, height, width)\n",
    "x_train = x_train.transpose((0, 3, 1, 2))\n",
    "x_test = x_test.transpose((0, 3, 1, 2))"
   ]
  },
  {
   "cell_type": "code",
   "execution_count": null,
   "metadata": {},
   "outputs": [],
   "source": [
    "import torch.nn as nn\n",
    "import torch.optim as optim\n",
    "from torchvision.models import resnet50\n",
    "\n",
    "# Initialize ResNet50 model\n",
    "model = resnet50(pretrained=False)\n",
    "model.fc = nn.Linear(2048, 10)  # Adjust the final layer for CIFAR-10 (10 classes)\n",
    "model = model.cuda()\n",
    "\n",
    "# Define loss function and optimizer\n",
    "criterion = nn.CrossEntropyLoss()\n",
    "optimizer = optim.Adam(model.parameters(), lr=0.001)"
   ]
  },
  {
   "cell_type": "code",
   "execution_count": null,
   "metadata": {},
   "outputs": [],
   "source": [
    "from art.estimators.classification import PyTorchClassifier\n",
    "\n",
    "# Define the ART classifier\n",
    "classifier = PyTorchClassifier(\n",
    "    model=model,\n",
    "    loss=criterion,\n",
    "    optimizer=optimizer,\n",
    "    input_shape=(3, 32, 32),\n",
    "    nb_classes=10,\n",
    "    clip_values=(0, 1)\n",
    ")"
   ]
  },
  {
   "cell_type": "code",
   "execution_count": null,
   "metadata": {},
   "outputs": [],
   "source": [
    "from art.attacks.evasion import FastGradientMethod\n",
    "from art.defences.trainer import AdversarialTrainer\n",
    "import time\n",
    "\n",
    "# Define the attack\n",
    "attack = FastGradientMethod(estimator=classifier, eps=0.3)\n",
    "\n",
    "# Initialize the adversarial trainer\n",
    "trainer = AdversarialTrainer(classifier, attacks=attack, ratio=0.5)\n",
    "\n",
    "start_time = time.time()\n",
    "# Perform adversarial training\n",
    "trainer.fit(x_train, y_train, batch_size=128, nb_epochs=10)\n",
    "\n",
    "end_time = time.time()\n",
    "print('Adversarial training took', end_time - start_time, 'seconds')"
   ]
  },
  {
   "cell_type": "markdown",
   "metadata": {},
   "source": [
    "### ARES"
   ]
  },
  {
   "cell_type": "markdown",
   "metadata": {},
   "source": [
    "#### Single GPU"
   ]
  },
  {
   "cell_type": "code",
   "execution_count": null,
   "metadata": {},
   "outputs": [],
   "source": [
    "import time\n",
    "start_time = time.time()\n",
    "!python -m torch.distributed.launch --nproc_per_node=1 ./ares/cifar/adversarial_training.py --configs= ./ares/cifar/resnet50.yaml\n",
    "end_time = time.time()\n",
    "print(\"Execution time: \", end_time - start_time)"
   ]
  },
  {
   "cell_type": "markdown",
   "metadata": {},
   "source": [
    "#### Multi GPU"
   ]
  },
  {
   "cell_type": "code",
   "execution_count": null,
   "metadata": {},
   "outputs": [],
   "source": [
    "import time\n",
    "start_time = time.time()\n",
    "!python -m torch.distributed.launch --nproc_per_node=4 ./ares/cifar/adversarial_training.py --configs= ./ares/cifar/resnet50.yaml\n",
    "end_time = time.time()\n",
    "print(\"Execution time: \", end_time - start_time)"
   ]
  },
  {
   "cell_type": "code",
   "execution_count": null,
   "metadata": {},
   "outputs": [],
   "source": [
    "import time\n",
    "start_time = time.time()\n",
    "!python -m torch.distributed.launch --nproc_per_node=7 ./ares/cifar/adversarial_training.py --configs= ./ares/cifar/resnet50.yaml\n",
    "end_time = time.time()\n",
    "print(\"Execution time: \", end_time - start_time)"
   ]
  },
  {
   "cell_type": "markdown",
   "metadata": {},
   "source": [
    "### AdvSecureNet"
   ]
  },
  {
   "cell_type": "markdown",
   "metadata": {},
   "source": [
    "#### Single GPU"
   ]
  },
  {
   "cell_type": "code",
   "execution_count": null,
   "metadata": {},
   "outputs": [],
   "source": [
    "import time\n",
    "start_time = time.time()\n",
    "!advsecurenet defense adversarial-training -c ./advsecurenet/cifar/adversarial_training_config.yml\n",
    "end_time = time.time()\n",
    "print(\"Execution time: \", end_time - start_time)"
   ]
  },
  {
   "cell_type": "markdown",
   "metadata": {},
   "source": [
    "#### Multi GPU"
   ]
  },
  {
   "cell_type": "code",
   "execution_count": null,
   "metadata": {},
   "outputs": [],
   "source": [
    "import time\n",
    "start_time = time.time()\n",
    "# update the config file with the number of GPUs\n",
    "!advsecurenet defense adversarial-training -c ./advsecurenet/cifar/adversarial_training_config.yml\n",
    "end_time = time.time()\n",
    "print(\"Execution time: \", end_time - start_time)"
   ]
  },
  {
   "cell_type": "markdown",
   "metadata": {},
   "source": [
    "## ImageNet"
   ]
  },
  {
   "cell_type": "markdown",
   "metadata": {},
   "source": [
    "### IBM-ART"
   ]
  },
  {
   "cell_type": "code",
   "execution_count": null,
   "metadata": {},
   "outputs": [],
   "source": [
    "\n",
    "import torch\n",
    "import torchvision\n",
    "import torchvision.transforms as transforms\n",
    "from torch.utils.data import DataLoader\n",
    "\n",
    "# Define the transformations for the dataset\n",
    "transform = transforms.Compose([\n",
    "    transforms.Resize(256),\n",
    "    transforms.CenterCrop(224),\n",
    "    transforms.ToTensor(),\n",
    "    transforms.Normalize(mean=[0.485, 0.456, 0.406], std=[0.229, 0.224, 0.225]),\n",
    "])\n",
    "\n",
    "# Path to ImageNet data\n",
    "data_path = '/local/scratch/datasets/ImageNet/ILSVRC2012/'\n",
    "\n",
    "# Load the dataset#\n",
    "trainset = torchvision.datasets.ImageNet(root=data_path, split='train', transform=transform)\n",
    "\n",
    "x_train = np.array([trainset[i][0].numpy() for i in range(len(trainset))])\n",
    "y_train = np.array([trainset[i][1] for i in range(len(trainset))])\n"
   ]
  },
  {
   "cell_type": "code",
   "execution_count": null,
   "metadata": {},
   "outputs": [],
   "source": [
    "import torch.nn as nn\n",
    "import torch.optim as optim\n",
    "from torchvision.models import resnet50\n",
    "\n",
    "# Initialize ResNet50 model\n",
    "model = resnet50(pretrained=False)\n",
    "model = model.cuda()\n",
    "\n",
    "# Define loss function and optimizer\n",
    "criterion = nn.CrossEntropyLoss()\n",
    "optimizer = optim.Adam(model.parameters(), lr=0.001)"
   ]
  },
  {
   "cell_type": "code",
   "execution_count": null,
   "metadata": {},
   "outputs": [],
   "source": [
    "\n",
    "from art.attacks.evasion import FastGradientMethod\n",
    "from art.defences.trainer import AdversarialTrainer\n",
    "import time\n",
    "\n",
    "# Define the attack\n",
    "attack = FastGradientMethod(estimator=classifier, eps=0.1)\n",
    "\n",
    "# Initialize the adversarial trainer\n",
    "trainer = AdversarialTrainer(classifier, attacks=attack, ratio=0.5)\n",
    "\n",
    "\n",
    "\n",
    "start_time = time.time()\n",
    "# Perform adversarial training\n",
    "trainer.fit(x = x_train,\n",
    "            y = y_train, \n",
    "            batch_size=32,\n",
    "            nb_epochs=1)\n",
    "\n",
    "end_time = time.time()\n",
    "print('Adversarial training took', end_time - start_time, 'seconds')"
   ]
  },
  {
   "cell_type": "markdown",
   "metadata": {},
   "source": [
    "### ARES"
   ]
  },
  {
   "cell_type": "markdown",
   "metadata": {},
   "source": [
    "#### Single GPU"
   ]
  },
  {
   "cell_type": "code",
   "execution_count": null,
   "metadata": {},
   "outputs": [],
   "source": [
    "import time\n",
    "start_time = time.time()\n",
    "!python -m torch.distributed.launch --nproc_per_node=1 ./ares/imagenet/adversarial_training.py --configs= ./ares/imagenet/resnet50.yaml\n",
    "end_time = time.time()\n",
    "print(\"Execution time: \", end_time - start_time)"
   ]
  },
  {
   "cell_type": "markdown",
   "metadata": {},
   "source": [
    "#### Multi GPU"
   ]
  },
  {
   "cell_type": "code",
   "execution_count": null,
   "metadata": {},
   "outputs": [],
   "source": [
    "import time\n",
    "start_time = time.time()\n",
    "!python -m torch.distributed.launch --nproc_per_node=4 ./ares/imagenet/adversarial_training.py --configs= ./ares/imagenet/resnet50.yaml\n",
    "end_time = time.time()\n",
    "print(\"Execution time: \", end_time - start_time)"
   ]
  },
  {
   "cell_type": "code",
   "execution_count": null,
   "metadata": {},
   "outputs": [],
   "source": [
    "import time\n",
    "start_time = time.time()\n",
    "!python -m torch.distributed.launch --nproc_per_node=7 ./ares/imagenet/adversarial_training.py --configs= ./ares/imagenet/resnet50.yaml\n",
    "end_time = time.time()\n",
    "print(\"Execution time: \", end_time - start_time)"
   ]
  },
  {
   "cell_type": "markdown",
   "metadata": {},
   "source": [
    "### AdvSecureNet"
   ]
  },
  {
   "cell_type": "markdown",
   "metadata": {},
   "source": [
    "#### Single GPU"
   ]
  },
  {
   "cell_type": "code",
   "execution_count": null,
   "metadata": {},
   "outputs": [],
   "source": [
    "import time\n",
    "start_time = time.time()\n",
    "!advsecurenet defense adversarial-training -c ./advsecurenet/imagenet/adversarial_training_config.yml\n",
    "end_time = time.time()\n",
    "print(\"Execution time: \", end_time - start_time)"
   ]
  },
  {
   "cell_type": "markdown",
   "metadata": {},
   "source": [
    "#### Multi GPU"
   ]
  },
  {
   "cell_type": "code",
   "execution_count": null,
   "metadata": {},
   "outputs": [],
   "source": [
    "import time\n",
    "start_time = time.time()\n",
    "!advsecurenet defense adversarial-training -c ./advsecurenet/imagenet/adversarial_training_config.yml\n",
    "end_time = time.time()\n",
    "print(\"Execution time: \", end_time - start_time)"
   ]
  }
 ],
 "metadata": {
  "kernelspec": {
   "display_name": "ares",
   "language": "python",
   "name": "python3"
  },
  "language_info": {
   "codemirror_mode": {
    "name": "ipython",
    "version": 3
   },
   "file_extension": ".py",
   "mimetype": "text/x-python",
   "name": "python",
   "nbconvert_exporter": "python",
   "pygments_lexer": "ipython3",
   "version": "3.10.9"
  }
 },
 "nbformat": 4,
 "nbformat_minor": 2
}
